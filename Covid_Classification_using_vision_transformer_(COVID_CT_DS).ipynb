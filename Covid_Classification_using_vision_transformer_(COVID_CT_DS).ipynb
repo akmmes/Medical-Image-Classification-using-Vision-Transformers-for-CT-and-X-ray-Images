{
  "nbformat": 4,
  "nbformat_minor": 0,
  "metadata": {
    "colab": {
      "provenance": []
    },
    "kernelspec": {
      "name": "python3",
      "display_name": "Python 3"
    },
    "language_info": {
      "name": "python"
    },
    "accelerator": "GPU",
    "gpuClass": "standard"
  },
  "cells": [
    {
      "cell_type": "code",
      "execution_count": 1,
      "metadata": {
        "colab": {
          "base_uri": "https://localhost:8080/"
        },
        "id": "2Tl7E_hhxZLW",
        "outputId": "3bd504ce-d691-4e4a-cfcd-b3ec25f4c5bd"
      },
      "outputs": [
        {
          "output_type": "stream",
          "name": "stdout",
          "text": [
            "Cloning into 'COVID-CT'...\n",
            "remote: Enumerating objects: 5463, done.\u001b[K\n",
            "remote: Counting objects: 100% (4/4), done.\u001b[K\n",
            "remote: Compressing objects: 100% (4/4), done.\u001b[K\n",
            "remote: Total 5463 (delta 0), reused 1 (delta 0), pack-reused 5459\u001b[K\n",
            "Receiving objects: 100% (5463/5463), 1.09 GiB | 17.79 MiB/s, done.\n",
            "Resolving deltas: 100% (360/360), done.\n",
            "Updating files: 100% (1048/1048), done.\n"
          ]
        }
      ],
      "source": [
        "!git clone https://github.com/UCSD-AI4H/COVID-CT.git"
      ]
    },
    {
      "cell_type": "code",
      "source": [
        "!unzip '/content/COVID-CTT/Images-processed/CT_COVID.zip' -d '/content/'"
      ],
      "metadata": {
        "id": "A6xsUrN40cM-"
      },
      "execution_count": null,
      "outputs": []
    },
    {
      "cell_type": "code",
      "source": [
        "!unzip '/content/COVID-CTT/Images-processed/CT_NonCOVID.zip' -d '/content/'"
      ],
      "metadata": {
        "id": "_w884eqY02Sn"
      },
      "execution_count": null,
      "outputs": []
    },
    {
      "cell_type": "code",
      "source": [
        "import os\n",
        "import cv2\n",
        "\n",
        "import numpy as np\n",
        "import pandas as pd\n",
        "import seaborn as sns\n",
        "import matplotlib.pyplot as plt\n",
        "import sklearn.metrics as metrics\n",
        "\n",
        "from sklearn.model_selection import train_test_split\n",
        "from sklearn.preprocessing import LabelEncoder\n",
        "from sklearn.metrics import confusion_matrix, classification_report\n",
        "\n",
        "from keras.utils import np_utils\n",
        "\n",
        "from tensorflow.keras.models import Model\n",
        "from tensorflow.keras.models import Sequential\n",
        "from tensorflow.keras.optimizers import Adam\n",
        "from tensorflow.keras.utils import to_categorical\n",
        "from tensorflow.keras.preprocessing.image import ImageDataGenerator\n",
        "from tensorflow.keras.applications import VGG16, ResNet101, Xception\n",
        "from tensorflow.keras.layers import Input, Dense, Flatten, MaxPooling2D, GlobalAveragePooling2D, Dropout, BatchNormalization, Conv2D, InputLayer\n",
        "\n",
        "from tensorflow.keras.models import Model, load_model"
      ],
      "metadata": {
        "id": "B4k85QcUyUTH"
      },
      "execution_count": 41,
      "outputs": []
    },
    {
      "cell_type": "code",
      "source": [
        "LR = 0.0001\n",
        "EPOCHS = 500\n",
        "BATCH_SIZE = 32\n",
        "IMG_SIZE = 224"
      ],
      "metadata": {
        "id": "VUWJHOYEzYYl"
      },
      "execution_count": 42,
      "outputs": []
    },
    {
      "cell_type": "code",
      "source": [
        "\n",
        "imagePaths = []\n",
        "\n",
        "for dirname, _, filenames in os.walk('/content/COVID-CT/'):\n",
        "    for filename in filenames:\n",
        "        if (filename[-3:] == 'png'):\n",
        "            imagePaths.append(os.path.join(dirname, filename))"
      ],
      "metadata": {
        "id": "m6RgpL0wzYWM"
      },
      "execution_count": 43,
      "outputs": []
    },
    {
      "cell_type": "code",
      "source": [
        "X = []\n",
        "y = []\n",
        "\n",
        "for img_path in imagePaths:\n",
        "    label = img_path.split(os.path.sep)[-2]\n",
        "    \n",
        "    img = cv2.imread(img_path)\n",
        "    img = cv2.cvtColor(img, cv2.COLOR_BGR2RGB)\n",
        "    img = cv2.resize(img, (IMG_SIZE, IMG_SIZE))/255.0\n",
        "    \n",
        "    X.append(img)\n",
        "    y.append(label)\n",
        "\n",
        "X = np.array(X)\n",
        "y = np.array(y)\n",
        "\n",
        "print(type(X), type(y), '\\n')\n",
        "print(X.shape, y.shape)"
      ],
      "metadata": {
        "colab": {
          "base_uri": "https://localhost:8080/"
        },
        "id": "9W92QmKZzYT7",
        "outputId": "4ee923fd-7224-4881-ebe9-ea8d0d037b3d"
      },
      "execution_count": 44,
      "outputs": [
        {
          "output_type": "stream",
          "name": "stdout",
          "text": [
            "<class 'numpy.ndarray'> <class 'numpy.ndarray'> \n",
            "\n",
            "(544, 224, 224, 3) (544,)\n"
          ]
        }
      ]
    },
    {
      "cell_type": "code",
      "source": [
        "#View counts of different labels\n",
        "y_df = pd.DataFrame(y, columns=['Labels'])\n",
        "print(y_df.head(), \"\\n\")\n",
        "print(y_df['Labels'].value_counts())\n",
        "\n",
        "sns.countplot(y_df['Labels'])\n",
        "plt.show()"
      ],
      "metadata": {
        "colab": {
          "base_uri": "https://localhost:8080/",
          "height": 472
        },
        "id": "jtvQD3M9zYRf",
        "outputId": "0d7511bd-ba14-427e-d6ac-388003297344"
      },
      "execution_count": 45,
      "outputs": [
        {
          "output_type": "stream",
          "name": "stdout",
          "text": [
            "        Labels\n",
            "0  CT_NonCOVID\n",
            "1  CT_NonCOVID\n",
            "2  CT_NonCOVID\n",
            "3  CT_NonCOVID\n",
            "4  CT_NonCOVID \n",
            "\n",
            "CT_COVID       349\n",
            "CT_NonCOVID    195\n",
            "Name: Labels, dtype: int64\n"
          ]
        },
        {
          "output_type": "display_data",
          "data": {
            "text/plain": [
              "<Figure size 432x288 with 1 Axes>"
            ],
            "image/png": "[encoded data removed]"
          },
          "metadata": {}
        }
      ]
    },
    {
      "cell_type": "code",
      "source": [
        "#Encode labels as integers\n",
        "le = LabelEncoder()\n",
        "y_encoded = le.fit_transform(y)\n",
        "#Convert list of labels to one-hot format\n",
        "y_encoded = np_utils.to_categorical(y_encoded)"
      ],
      "metadata": {
        "id": "fK7J93BuzYO4"
      },
      "execution_count": 46,
      "outputs": []
    },
    {
      "cell_type": "code",
      "source": [
        "#Check properties of label array\n",
        "print(y_encoded, '\\n')\n",
        "print(y_encoded[0], '\\n')\n",
        "print(type(y_encoded), '\\n')\n",
        "print(le.classes_, '\\n')"
      ],
      "metadata": {
        "colab": {
          "base_uri": "https://localhost:8080/"
        },
        "id": "B3LTGX1JzYMi",
        "outputId": "f1c590d2-af72-4e47-c993-9c08bddcebfa"
      },
      "execution_count": 47,
      "outputs": [
        {
          "output_type": "stream",
          "name": "stdout",
          "text": [
            "[[0. 1.]\n",
            " [0. 1.]\n",
            " [0. 1.]\n",
            " ...\n",
            " [1. 0.]\n",
            " [1. 0.]\n",
            " [1. 0.]] \n",
            "\n",
            "[0. 1.] \n",
            "\n",
            "<class 'numpy.ndarray'> \n",
            "\n",
            "['CT_COVID' 'CT_NonCOVID'] \n",
            "\n"
          ]
        }
      ]
    },
    {
      "cell_type": "code",
      "source": [
        "#Generate training and testing subsets\n",
        "X_train, X_test, y_train, y_test = train_test_split(X, y_encoded, test_size=0.20, stratify=y_encoded, random_state=3)\n",
        "\n",
        "print(X_train.shape)\n",
        "print(y_train.shape)\n",
        "print(X_test.shape)\n",
        "print(y_test.shape)\n",
        "\n",
        "train_aug = ImageDataGenerator(rotation_range=15)"
      ],
      "metadata": {
        "colab": {
          "base_uri": "https://localhost:8080/"
        },
        "id": "DvZ121vhzYKG",
        "outputId": "f13337c4-ef14-4db7-eb13-087b78869f1b"
      },
      "execution_count": 79,
      "outputs": [
        {
          "output_type": "stream",
          "name": "stdout",
          "text": [
            "(435, 224, 224, 3)\n",
            "(435, 2)\n",
            "(109, 224, 224, 3)\n",
            "(109, 2)\n"
          ]
        }
      ]
    },
    {
      "cell_type": "code",
      "source": [
        "# !pip install --user tensorflow-addons==0.8.3\n",
        "# !pip install --user tensorflow==2.2.0-rc3\n",
        "\n",
        "!pip install tensorflow-addons\n",
        "\n",
        "import pandas as pd\n",
        "import numpy as np\n",
        "import tensorflow as tf\n",
        "import tensorflow_addons as tfa\n",
        "import glob, warnings\n",
        "import matplotlib.pyplot as plt\n",
        "import pathlib\n",
        "from sklearn.metrics import confusion_matrix, classification_report\n",
        "import seaborn as sns\n",
        "\n",
        "warnings.filterwarnings('ignore')\n",
        "print('TensorFlow Version ' + tf.__version__)\n",
        "\n",
        "!pip install --quiet vit-keras"
      ],
      "metadata": {
        "colab": {
          "base_uri": "https://localhost:8080/"
        },
        "id": "g-HUoxt8zYHb",
        "outputId": "1cec92d1-9c76-4d8b-c817-02c81f259cfa"
      },
      "execution_count": 80,
      "outputs": [
        {
          "output_type": "stream",
          "name": "stdout",
          "text": [
            "Looking in indexes: https://pypi.org/simple, https://us-python.pkg.dev/colab-wheels/public/simple/\n",
            "Requirement already satisfied: tensorflow-addons in /usr/local/lib/python3.8/dist-packages (0.19.0)\n",
            "Requirement already satisfied: packaging in /usr/local/lib/python3.8/dist-packages (from tensorflow-addons) (23.0)\n",
            "Requirement already satisfied: typeguard>=2.7 in /usr/local/lib/python3.8/dist-packages (from tensorflow-addons) (2.7.1)\n",
            "TensorFlow Version 2.11.0\n"
          ]
        }
      ]
    },
    {
      "cell_type": "code",
      "source": [
        "from vit_keras import vit"
      ],
      "metadata": {
        "id": "cYa1Lv_tzYE-"
      },
      "execution_count": 81,
      "outputs": []
    },
    {
      "cell_type": "code",
      "source": [
        "# vit_model = vit.vit_b32(\n",
        "#         image_size = 224,\n",
        "#         activation = 'sigmoid',\n",
        "#         pretrained = True,\n",
        "#         include_top = False,\n",
        "#         pretrained_top = False,\n",
        "#         classes = 2)\n",
        "\n",
        "\n",
        "# image_size = 224\n",
        "model = vit.vit_l32(\n",
        "    image_size=224,\n",
        "    activation='sigmoid',\n",
        "    pretrained=True,\n",
        "    include_top=True,\n",
        "    pretrained_top=False,\n",
        "    classes=2\n",
        ")"
      ],
      "metadata": {
        "colab": {
          "base_uri": "https://localhost:8080/"
        },
        "id": "XhhO5sURzYCn",
        "outputId": "38e9346a-e055-4ff5-8360-04233c839be0"
      },
      "execution_count": 88,
      "outputs": [
        {
          "output_type": "stream",
          "name": "stdout",
          "text": [
            "Downloading data from https://github.com/faustomorales/vit-keras/releases/download/dl/ViT-L_32_imagenet21k+imagenet2012.npz\n",
            "1226658854/1226658854 [==============================] - 174s 0us/step\n"
          ]
        }
      ]
    },
    {
      "cell_type": "code",
      "source": [
        "model = tf.keras.Sequential([\n",
        "        vit_model,\n",
        "        tf.keras.layers.Flatten(),\n",
        "        tf.keras.layers.BatchNormalization(),\n",
        "        tf.keras.layers.Dense(11, activation = tfa.activations.gelu),\n",
        "        tf.keras.layers.BatchNormalization(),\n",
        "        tf.keras.layers.Dense(2, 'sigmoid')\n",
        "    ],\n",
        "    name = 'vision_transformer')\n",
        "\n",
        "model.summary()"
      ],
      "metadata": {
        "colab": {
          "base_uri": "https://localhost:8080/"
        },
        "id": "_NZun-qVzX_1",
        "outputId": "ad238937-f5c0-4de8-874d-9dfff843ca1b"
      },
      "execution_count": 96,
      "outputs": [
        {
          "output_type": "stream",
          "name": "stdout",
          "text": [
            "Model: \"vision_transformer\"\n",
            "_________________________________________________________________\n",
            " Layer (type)                Output Shape              Param #   \n",
            "=================================================================\n",
            " vit-b32 (Functional)        (None, 768)               87455232  \n",
            "                                                                 \n",
            " flatten_4 (Flatten)         (None, 768)               0         \n",
            "                                                                 \n",
            " batch_normalization_8 (Batc  (None, 768)              3072      \n",
            " hNormalization)                                                 \n",
            "                                                                 \n",
            " dense_8 (Dense)             (None, 11)                8459      \n",
            "                                                                 \n",
            " batch_normalization_9 (Batc  (None, 11)               44        \n",
            " hNormalization)                                                 \n",
            "                                                                 \n",
            " dense_9 (Dense)             (None, 2)                 24        \n",
            "                                                                 \n",
            "=================================================================\n",
            "Total params: 87,466,831\n",
            "Trainable params: 87,465,273\n",
            "Non-trainable params: 1,558\n",
            "_________________________________________________________________\n"
          ]
        }
      ]
    },
    {
      "cell_type": "code",
      "source": [
        "import time\n",
        "from sklearn.neural_network import MLPClassifier\n",
        "from sklearn.datasets import load_iris"
      ],
      "metadata": {
        "id": "E3ZGeSeh9Bra"
      },
      "execution_count": 90,
      "outputs": []
    },
    {
      "cell_type": "code",
      "source": [
        "earlystopping = tf.keras.callbacks.EarlyStopping(monitor = 'val_accuracy',\n",
        "                                                 min_delta = 1e-4,\n",
        "                                                 patience = 30,\n",
        "                                                 mode = 'max',\n",
        "                                                 restore_best_weights = True,\n",
        "                                                 verbose = 1)\n",
        "\n",
        "reduce_lr = tf.keras.callbacks.ReduceLROnPlateau(monitor = 'val_accuracy',\n",
        "                                                 factor = 0.2,\n",
        "                                                 patience = 2,\n",
        "                                                 verbose = 1,\n",
        "                                                 min_delta = 1e-4,\n",
        "                                                 min_lr = 1e-6,\n",
        "                                                 mode = 'max')\n",
        "\n",
        "callbacks = [earlystopping, reduce_lr]\n",
        "# callbacks = [reduce_lr]"
      ],
      "metadata": {
        "id": "YpPYnGDp94Jk"
      },
      "execution_count": 99,
      "outputs": []
    },
    {
      "cell_type": "code",
      "source": [
        "\n",
        "# optim = Adam(lr = LR, decay = LR/EPOCHS)\n",
        "\n",
        "learning_rate = 1e-4\n",
        "\n",
        "optimizer = tfa.optimizers.RectifiedAdam(learning_rate = learning_rate)\n",
        "\n",
        "# model.compile(optimizer = optimizer, \n",
        "#               loss = tf.keras.losses.BinaryCrossentropy(label_smoothing = 0.2), \n",
        "#               metrics = ['accuracy'])\n",
        "\n",
        "\n",
        "model.compile(optimizer = optimizer, \n",
        "              loss ='binary_crossentropy', \n",
        "              metrics = ['accuracy'])\n",
        "\n",
        "# start = time.time()\n",
        "# # model.fit(X, y)\n",
        "# stop = time.time()\n",
        "# print(f\"Training time: {stop - start}s\")\n",
        "\n",
        "import time\n",
        "start = time.time()\n",
        "\n",
        "# model.compile(loss='categorical_crossentropy', optimizer=optim, metrics=['accuracy'])\n",
        "\n",
        "history = model.fit_generator(train_aug.flow(X_train, y_train, batch_size=BATCH_SIZE),\n",
        "                                    steps_per_epoch=len(X_train)//BATCH_SIZE,\n",
        "                                    validation_data=(X_test, y_test),\n",
        "                                    validation_steps=len(X_test)//BATCH_SIZE,\n",
        "                                    epochs=500,\n",
        "                                    callbacks = callbacks,\n",
        "                                    verbose=1)\n",
        "end = time.time()\n",
        "\n",
        "print('Program processed ', end - start, 's, ', (end - start)/60, 'min, ', (end - start)/3600, 'h')\n",
        "\n",
        "# stop = time.time()\n",
        "# print(f\"Training time: {stop - start}s\")"
      ],
      "metadata": {
        "colab": {
          "base_uri": "https://localhost:8080/"
        },
        "id": "jfoobRq9zX9b",
        "outputId": "a6ecae19-3234-48f8-f910-e5feee766083"
      },
      "execution_count": 100,
      "outputs": [
        {
          "output_type": "stream",
          "name": "stdout",
          "text": [
            "Epoch 1/500\n",
            "13/13 [==============================] - 43s 886ms/step - loss: 0.7127 - accuracy: 0.6625 - val_loss: 0.5160 - val_accuracy: 0.7798 - lr: 1.0000e-04\n",
            "Epoch 2/500\n",
            "13/13 [==============================] - 7s 527ms/step - loss: 0.5029 - accuracy: 0.8197 - val_loss: 0.4251 - val_accuracy: 0.8440 - lr: 1.0000e-04\n",
            "Epoch 3/500\n",
            "13/13 [==============================] - 8s 579ms/step - loss: 0.3929 - accuracy: 0.8834 - val_loss: 0.3831 - val_accuracy: 0.8716 - lr: 1.0000e-04\n",
            "Epoch 4/500\n",
            "13/13 [==============================] - 7s 498ms/step - loss: 0.3658 - accuracy: 0.8958 - val_loss: 0.3592 - val_accuracy: 0.8716 - lr: 1.0000e-04\n",
            "Epoch 5/500\n",
            "13/13 [==============================] - ETA: 0s - loss: 0.3050 - accuracy: 0.9404\n",
            "Epoch 5: ReduceLROnPlateau reducing learning rate to 1.9999999494757503e-05.\n",
            "13/13 [==============================] - 6s 469ms/step - loss: 0.3050 - accuracy: 0.9404 - val_loss: 0.4087 - val_accuracy: 0.8440 - lr: 1.0000e-04\n",
            "Epoch 6/500\n",
            "13/13 [==============================] - 7s 490ms/step - loss: 0.3157 - accuracy: 0.9181 - val_loss: 0.3660 - val_accuracy: 0.8624 - lr: 2.0000e-05\n",
            "Epoch 7/500\n",
            "13/13 [==============================] - ETA: 0s - loss: 0.2868 - accuracy: 0.9553\n",
            "Epoch 7: ReduceLROnPlateau reducing learning rate to 3.999999898951501e-06.\n",
            "13/13 [==============================] - 7s 493ms/step - loss: 0.2868 - accuracy: 0.9553 - val_loss: 0.3634 - val_accuracy: 0.8716 - lr: 2.0000e-05\n",
            "Epoch 8/500\n",
            "13/13 [==============================] - 7s 545ms/step - loss: 0.2912 - accuracy: 0.9256 - val_loss: 0.3641 - val_accuracy: 0.8716 - lr: 4.0000e-06\n",
            "Epoch 9/500\n",
            "13/13 [==============================] - ETA: 0s - loss: 0.3060 - accuracy: 0.9181\n",
            "Epoch 9: ReduceLROnPlateau reducing learning rate to 1e-06.\n",
            "13/13 [==============================] - 7s 536ms/step - loss: 0.3060 - accuracy: 0.9181 - val_loss: 0.3672 - val_accuracy: 0.8716 - lr: 4.0000e-06\n",
            "Epoch 10/500\n",
            "13/13 [==============================] - 7s 512ms/step - loss: 0.2814 - accuracy: 0.9404 - val_loss: 0.3696 - val_accuracy: 0.8624 - lr: 1.0000e-06\n",
            "Epoch 11/500\n",
            "13/13 [==============================] - 7s 516ms/step - loss: 0.2937 - accuracy: 0.9280 - val_loss: 0.3718 - val_accuracy: 0.8624 - lr: 1.0000e-06\n",
            "Epoch 12/500\n",
            "13/13 [==============================] - 7s 522ms/step - loss: 0.2813 - accuracy: 0.9330 - val_loss: 0.3719 - val_accuracy: 0.8624 - lr: 1.0000e-06\n",
            "Epoch 13/500\n",
            "13/13 [==============================] - 7s 550ms/step - loss: 0.2969 - accuracy: 0.9305 - val_loss: 0.3737 - val_accuracy: 0.8532 - lr: 1.0000e-06\n",
            "Epoch 14/500\n",
            "13/13 [==============================] - 7s 560ms/step - loss: 0.2978 - accuracy: 0.9231 - val_loss: 0.3704 - val_accuracy: 0.8624 - lr: 1.0000e-06\n",
            "Epoch 15/500\n",
            "13/13 [==============================] - 7s 527ms/step - loss: 0.2826 - accuracy: 0.9280 - val_loss: 0.3695 - val_accuracy: 0.8716 - lr: 1.0000e-06\n",
            "Epoch 16/500\n",
            "13/13 [==============================] - 7s 488ms/step - loss: 0.2881 - accuracy: 0.9404 - val_loss: 0.3733 - val_accuracy: 0.8532 - lr: 1.0000e-06\n",
            "Epoch 17/500\n",
            "13/13 [==============================] - 7s 533ms/step - loss: 0.2860 - accuracy: 0.9380 - val_loss: 0.3772 - val_accuracy: 0.8532 - lr: 1.0000e-06\n",
            "Epoch 18/500\n",
            "13/13 [==============================] - 7s 504ms/step - loss: 0.2983 - accuracy: 0.9330 - val_loss: 0.3782 - val_accuracy: 0.8532 - lr: 1.0000e-06\n",
            "Epoch 19/500\n",
            "13/13 [==============================] - 7s 496ms/step - loss: 0.2747 - accuracy: 0.9578 - val_loss: 0.3783 - val_accuracy: 0.8532 - lr: 1.0000e-06\n",
            "Epoch 20/500\n",
            "13/13 [==============================] - 7s 511ms/step - loss: 0.2834 - accuracy: 0.9303 - val_loss: 0.3768 - val_accuracy: 0.8532 - lr: 1.0000e-06\n",
            "Epoch 21/500\n",
            "13/13 [==============================] - 7s 505ms/step - loss: 0.3085 - accuracy: 0.9305 - val_loss: 0.3780 - val_accuracy: 0.8532 - lr: 1.0000e-06\n",
            "Epoch 22/500\n",
            "13/13 [==============================] - 7s 543ms/step - loss: 0.2896 - accuracy: 0.9404 - val_loss: 0.3810 - val_accuracy: 0.8532 - lr: 1.0000e-06\n",
            "Epoch 23/500\n",
            "13/13 [==============================] - 7s 501ms/step - loss: 0.2708 - accuracy: 0.9454 - val_loss: 0.3843 - val_accuracy: 0.8440 - lr: 1.0000e-06\n",
            "Epoch 24/500\n",
            "13/13 [==============================] - 7s 564ms/step - loss: 0.2864 - accuracy: 0.9327 - val_loss: 0.3824 - val_accuracy: 0.8440 - lr: 1.0000e-06\n",
            "Epoch 25/500\n",
            "13/13 [==============================] - 7s 527ms/step - loss: 0.2872 - accuracy: 0.9280 - val_loss: 0.3804 - val_accuracy: 0.8440 - lr: 1.0000e-06\n",
            "Epoch 26/500\n",
            "13/13 [==============================] - 7s 502ms/step - loss: 0.2836 - accuracy: 0.9330 - val_loss: 0.3807 - val_accuracy: 0.8440 - lr: 1.0000e-06\n",
            "Epoch 27/500\n",
            "13/13 [==============================] - 7s 498ms/step - loss: 0.2743 - accuracy: 0.9380 - val_loss: 0.3826 - val_accuracy: 0.8440 - lr: 1.0000e-06\n",
            "Epoch 28/500\n",
            "13/13 [==============================] - 7s 528ms/step - loss: 0.2865 - accuracy: 0.9380 - val_loss: 0.3846 - val_accuracy: 0.8440 - lr: 1.0000e-06\n",
            "Epoch 29/500\n",
            "13/13 [==============================] - 8s 596ms/step - loss: 0.2720 - accuracy: 0.9404 - val_loss: 0.3848 - val_accuracy: 0.8440 - lr: 1.0000e-06\n",
            "Epoch 30/500\n",
            "13/13 [==============================] - 7s 490ms/step - loss: 0.2939 - accuracy: 0.9380 - val_loss: 0.3862 - val_accuracy: 0.8440 - lr: 1.0000e-06\n",
            "Epoch 31/500\n",
            "13/13 [==============================] - 6s 479ms/step - loss: 0.2866 - accuracy: 0.9231 - val_loss: 0.3839 - val_accuracy: 0.8440 - lr: 1.0000e-06\n",
            "Epoch 32/500\n",
            "13/13 [==============================] - 7s 551ms/step - loss: 0.2831 - accuracy: 0.9280 - val_loss: 0.3811 - val_accuracy: 0.8440 - lr: 1.0000e-06\n",
            "Epoch 33/500\n",
            "13/13 [==============================] - ETA: 0s - loss: 0.2591 - accuracy: 0.9603Restoring model weights from the end of the best epoch: 3.\n",
            "13/13 [==============================] - 7s 523ms/step - loss: 0.2591 - accuracy: 0.9603 - val_loss: 0.3804 - val_accuracy: 0.8440 - lr: 1.0000e-06\n",
            "Epoch 33: early stopping\n",
            "Program processed  331.7422180175781 s,  5.5290369669596355 min,  0.09215061611599393 h\n"
          ]
        }
      ]
    },
    {
      "cell_type": "code",
      "source": [
        "\n",
        "score = model.evaluate(X_train, y_train)\n",
        "print(\"Model accuracy on Train dataset: %f.\" %(score[1]*100))"
      ],
      "metadata": {
        "colab": {
          "base_uri": "https://localhost:8080/"
        },
        "id": "Xa1kaGiq72EH",
        "outputId": "9c96ebdc-7180-4664-ceba-c2adc998bcf7"
      },
      "execution_count": 77,
      "outputs": [
        {
          "output_type": "stream",
          "name": "stdout",
          "text": [
            "13/13 [==============================] - 6s 132ms/step - loss: 0.4263 - accuracy: 0.9534\n",
            "Model accuracy on Train dataset: 95.343137.\n"
          ]
        }
      ]
    },
    {
      "cell_type": "code",
      "source": [
        "\n",
        "score = model.evaluate(X_test, y_test)\n",
        "print(\"Model accuracy on Test dataset: %f.\" %(score[1]*100))"
      ],
      "metadata": {
        "colab": {
          "base_uri": "https://localhost:8080/"
        },
        "id": "In2qXRDu8S9n",
        "outputId": "9e6d43ed-0dc8-4400-8018-2a1f52d1ba05"
      },
      "execution_count": 78,
      "outputs": [
        {
          "output_type": "stream",
          "name": "stdout",
          "text": [
            "5/5 [==============================] - 1s 115ms/step - loss: 0.5456 - accuracy: 0.8971\n",
            "Model accuracy on Test dataset: 89.705884.\n"
          ]
        }
      ]
    },
    {
      "cell_type": "code",
      "source": [
        "\n",
        "score = model.evaluate(X_train, y_train)\n",
        "print(\"Model accuracy on Train dataset: %f.\" %(score[1]*100))"
      ],
      "metadata": {
        "colab": {
          "base_uri": "https://localhost:8080/"
        },
        "id": "5BbzGtszN4ck",
        "outputId": "eaec773b-a270-4bf2-e710-e510cba654b1"
      },
      "execution_count": 94,
      "outputs": [
        {
          "output_type": "stream",
          "name": "stdout",
          "text": [
            "14/14 [==============================] - 2s 130ms/step - loss: 0.1278 - accuracy: 0.9632\n",
            "Model accuracy on Train dataset: 96.321839.\n"
          ]
        }
      ]
    },
    {
      "cell_type": "code",
      "source": [
        "\n",
        "score = model.evaluate(X_test, y_test)\n",
        "print(\"Model accuracy on Test dataset: %f.\" %(score[1]*100))"
      ],
      "metadata": {
        "colab": {
          "base_uri": "https://localhost:8080/"
        },
        "id": "LAE6UXkgN6gv",
        "outputId": "dc876bee-e760-4bdb-bc64-db092961ed35"
      },
      "execution_count": 95,
      "outputs": [
        {
          "output_type": "stream",
          "name": "stdout",
          "text": [
            "4/4 [==============================] - 1s 125ms/step - loss: 0.3079 - accuracy: 0.9083\n",
            "Model accuracy on Test dataset: 90.825689.\n"
          ]
        }
      ]
    },
    {
      "cell_type": "code",
      "source": [
        "\n",
        "plt.plot(history.history['accuracy'])\n",
        "plt.plot(history.history['val_accuracy'])\n",
        "\n",
        "plt.title('Model Accuracy')\n",
        "plt.ylabel('Accuracy')\n",
        "plt.xlabel('Epoch')\n",
        "\n",
        "plt.legend(['Training', 'Testing'])\n",
        "plt.savefig('vgg_ct_accuracy.png')\n",
        "plt.show()"
      ],
      "metadata": {
        "colab": {
          "base_uri": "https://localhost:8080/",
          "height": 318
        },
        "id": "o6Ck9f3k3Ppe",
        "outputId": "fbcb3ee9-2654-46ca-e099-8e51f63ce657"
      },
      "execution_count": 67,
      "outputs": [
        {
          "output_type": "display_data",
          "data": {
            "text/plain": [
              "<Figure size 432x288 with 1 Axes>"
            ],
            "image/png": "[encoded data removed]"
          },
          "metadata": {}
        }
      ]
    },
    {
      "cell_type": "code",
      "source": [
        "\n",
        "plt.plot(history.history['loss'])\n",
        "plt.plot(history.history['val_loss'])\n",
        "\n",
        "plt.title('Model Loss')\n",
        "plt.ylabel('Loss')\n",
        "plt.xlabel('Epoch')\n",
        "\n",
        "plt.legend(['Training', 'Testing'])\n",
        "plt.savefig('vgg_ct_loss.png')\n",
        "plt.show()"
      ],
      "metadata": {
        "colab": {
          "base_uri": "https://localhost:8080/",
          "height": 318
        },
        "id": "MWfnW75P_b_2",
        "outputId": "38653cd9-9a8d-4e82-df5a-b15bb949f514"
      },
      "execution_count": 68,
      "outputs": [
        {
          "output_type": "display_data",
          "data": {
            "text/plain": [
              "<Figure size 432x288 with 1 Axes>"
            ],
            "image/png": "[encoded data removed]"
          },
          "metadata": {}
        }
      ]
    },
    {
      "cell_type": "code",
      "source": [
        "\n",
        "y_pred = np.argmax(model.predict(X_test), axis=1)\n",
        "print(y_pred)\n",
        "print(len(y_pred))\n",
        "print(le.classes_)\n",
        "     "
      ],
      "metadata": {
        "colab": {
          "base_uri": "https://localhost:8080/"
        },
        "id": "5jQ7gY01_eJ1",
        "outputId": "8127b8a0-482c-4416-800b-b1a4b08c022e"
      },
      "execution_count": 69,
      "outputs": [
        {
          "output_type": "stream",
          "name": "stdout",
          "text": [
            "5/5 [==============================] - 1s 112ms/step\n",
            "[1 0 0 1 0 1 1 1 0 1 0 0 1 0 0 1 0 0 0 0 1 1 0 0 1 0 0 0 0 1 0 1 0 0 1 0 0\n",
            " 1 1 0 1 0 0 1 0 1 0 0 1 1 0 0 1 1 0 0 0 0 0 0 0 1 0 1 0 0 0 0 1 0 1 1 0 1\n",
            " 1 0 0 0 0 1 1 1 0 0 1 0 0 1 0 0 0 0 0 0 0 1 1 1 0 1 0 1 0 0 0 1 1 1 1 0 0\n",
            " 1 0 1 0 1 0 0 0 1 1 0 0 1 0 1 0 1 1 0 1 0 0 0 1 1]\n",
            "136\n",
            "['CT_COVID' 'CT_NonCOVID']\n"
          ]
        }
      ]
    },
    {
      "cell_type": "code",
      "source": [
        "y_test_labels = np.argmax(y_test, axis=1)\n",
        "print(y_test_labels)\n",
        "print(len(y_test_labels))"
      ],
      "metadata": {
        "colab": {
          "base_uri": "https://localhost:8080/"
        },
        "id": "z72SzYIu_hXo",
        "outputId": "3513febd-ec20-4a41-e715-66cd5e11f373"
      },
      "execution_count": 70,
      "outputs": [
        {
          "output_type": "stream",
          "name": "stdout",
          "text": [
            "[1 0 0 1 0 1 1 1 0 1 0 0 1 0 1 0 0 0 0 0 1 1 0 0 1 0 0 0 0 1 0 1 0 0 1 0 0\n",
            " 1 1 0 1 0 0 0 0 1 0 0 1 0 0 0 0 0 0 0 0 0 0 0 0 1 0 1 0 0 0 0 1 0 1 1 0 0\n",
            " 1 0 0 1 0 1 1 1 0 0 1 0 0 0 0 1 0 0 0 0 0 1 0 1 0 1 0 1 0 0 0 1 1 0 0 0 0\n",
            " 1 0 1 1 0 0 0 0 1 1 0 0 1 0 1 0 0 1 0 1 0 1 0 1 1]\n",
            "136\n"
          ]
        }
      ]
    },
    {
      "cell_type": "code",
      "source": [
        "#Confusion matrix\n",
        "cm = confusion_matrix(y_test_labels, y_pred)\n",
        "print(cm)\n",
        "cm_df = pd.DataFrame(cm, index=le.classes_, columns=le.classes_)\n",
        "cm_df.head()"
      ],
      "metadata": {
        "colab": {
          "base_uri": "https://localhost:8080/",
          "height": 147
        },
        "id": "Uz75kf7I_nbW",
        "outputId": "36b10790-7222-4f0c-de09-6d9996ebe495"
      },
      "execution_count": 71,
      "outputs": [
        {
          "output_type": "stream",
          "name": "stdout",
          "text": [
            "[[75 12]\n",
            " [ 5 44]]\n"
          ]
        },
        {
          "output_type": "execute_result",
          "data": {
            "text/plain": [
              "             CT_COVID  CT_NonCOVID\n",
              "CT_COVID           75           12\n",
              "CT_NonCOVID         5           44"
            ],
            "text/html": [
              "\n",
              "  <div id=\"df-be3052ab-5d44-4b19-9868-09285ea6897f\">\n",
              "    <div class=\"colab-df-container\">\n",
              "      <div>\n",
              "<style scoped>\n",
              "    .dataframe tbody tr th:only-of-type {\n",
              "        vertical-align: middle;\n",
              "    }\n",
              "\n",
              "    .dataframe tbody tr th {\n",
              "        vertical-align: top;\n",
              "    }\n",
              "\n",
              "    .dataframe thead th {\n",
              "        text-align: right;\n",
              "    }\n",
              "</style>\n",
              "<table border=\"1\" class=\"dataframe\">\n",
              "  <thead>\n",
              "    <tr style=\"text-align: right;\">\n",
              "      <th></th>\n",
              "      <th>CT_COVID</th>\n",
              "      <th>CT_NonCOVID</th>\n",
              "    </tr>\n",
              "  </thead>\n",
              "  <tbody>\n",
              "    <tr>\n",
              "      <th>CT_COVID</th>\n",
              "      <td>75</td>\n",
              "      <td>12</td>\n",
              "    </tr>\n",
              "    <tr>\n",
              "      <th>CT_NonCOVID</th>\n",
              "      <td>5</td>\n",
              "      <td>44</td>\n",
              "    </tr>\n",
              "  </tbody>\n",
              "</table>\n",
              "</div>\n",
              "      <button class=\"colab-df-convert\" onclick=\"convertToInteractive('df-be3052ab-5d44-4b19-9868-09285ea6897f')\"\n",
              "              title=\"Convert this dataframe to an interactive table.\"\n",
              "              style=\"display:none;\">\n",
              "        \n",
              "  <svg xmlns=\"http://www.w3.org/2000/svg\" height=\"24px\"viewBox=\"0 0 24 24\"\n",
              "       width=\"24px\">\n",
              "    <path d=\"M0 0h24v24H0V0z\" fill=\"none\"/>\n",
              "    <path d=\"M18.56 5.44l.94 2.06.94-2.06 2.06-.94-2.06-.94-.94-2.06-.94 2.06-2.06.94zm-11 1L8.5 8.5l.94-2.06 2.06-.94-2.06-.94L8.5 2.5l-.94 2.06-2.06.94zm10 10l.94 2.06.94-2.06 2.06-.94-2.06-.94-.94-2.06-.94 2.06-2.06.94z\"/><path d=\"M17.41 7.96l-1.37-1.37c-.4-.4-.92-.59-1.43-.59-.52 0-1.04.2-1.43.59L10.3 9.45l-7.72 7.72c-.78.78-.78 2.05 0 2.83L4 21.41c.39.39.9.59 1.41.59.51 0 1.02-.2 1.41-.59l7.78-7.78 2.81-2.81c.8-.78.8-2.07 0-2.86zM5.41 20L4 18.59l7.72-7.72 1.47 1.35L5.41 20z\"/>\n",
              "  </svg>\n",
              "      </button>\n",
              "      \n",
              "  <style>\n",
              "    .colab-df-container {\n",
              "      display:flex;\n",
              "      flex-wrap:wrap;\n",
              "      gap: 12px;\n",
              "    }\n",
              "\n",
              "    .colab-df-convert {\n",
              "      background-color: #E8F0FE;\n",
              "      border: none;\n",
              "      border-radius: 50%;\n",
              "      cursor: pointer;\n",
              "      display: none;\n",
              "      fill: #1967D2;\n",
              "      height: 32px;\n",
              "      padding: 0 0 0 0;\n",
              "      width: 32px;\n",
              "    }\n",
              "\n",
              "    .colab-df-convert:hover {\n",
              "      background-color: #E2EBFA;\n",
              "      box-shadow: 0px 1px 2px rgba(60, 64, 67, 0.3), 0px 1px 3px 1px rgba(60, 64, 67, 0.15);\n",
              "      fill: #174EA6;\n",
              "    }\n",
              "\n",
              "    [theme=dark] .colab-df-convert {\n",
              "      background-color: #3B4455;\n",
              "      fill: #D2E3FC;\n",
              "    }\n",
              "\n",
              "    [theme=dark] .colab-df-convert:hover {\n",
              "      background-color: #434B5C;\n",
              "      box-shadow: 0px 1px 3px 1px rgba(0, 0, 0, 0.15);\n",
              "      filter: drop-shadow(0px 1px 2px rgba(0, 0, 0, 0.3));\n",
              "      fill: #FFFFFF;\n",
              "    }\n",
              "  </style>\n",
              "\n",
              "      <script>\n",
              "        const buttonEl =\n",
              "          document.querySelector('#df-be3052ab-5d44-4b19-9868-09285ea6897f button.colab-df-convert');\n",
              "        buttonEl.style.display =\n",
              "          google.colab.kernel.accessAllowed ? 'block' : 'none';\n",
              "\n",
              "        async function convertToInteractive(key) {\n",
              "          const element = document.querySelector('#df-be3052ab-5d44-4b19-9868-09285ea6897f');\n",
              "          const dataTable =\n",
              "            await google.colab.kernel.invokeFunction('convertToInteractive',\n",
              "                                                     [key], {});\n",
              "          if (!dataTable) return;\n",
              "\n",
              "          const docLinkHtml = 'Like what you see? Visit the ' +\n",
              "            '<a target=\"_blank\" href=https://colab.research.google.com/notebooks/data_table.ipynb>data table notebook</a>'\n",
              "            + ' to learn more about interactive tables.';\n",
              "          element.innerHTML = '';\n",
              "          dataTable['output_type'] = 'display_data';\n",
              "          await google.colab.output.renderOutput(dataTable, element);\n",
              "          const docLink = document.createElement('div');\n",
              "          docLink.innerHTML = docLinkHtml;\n",
              "          element.appendChild(docLink);\n",
              "        }\n",
              "      </script>\n",
              "    </div>\n",
              "  </div>\n",
              "  "
            ]
          },
          "metadata": {},
          "execution_count": 71
        }
      ]
    }
  ]
}