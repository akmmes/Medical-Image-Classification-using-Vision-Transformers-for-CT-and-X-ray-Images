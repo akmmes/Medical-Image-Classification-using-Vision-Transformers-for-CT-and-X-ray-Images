{
  "nbformat": 4,
  "nbformat_minor": 0,
  "metadata": {
    "colab": {
      "provenance": []
    },
    "kernelspec": {
      "name": "python3",
      "display_name": "Python 3"
    },
    "language_info": {
      "name": "python"
    },
    "accelerator": "GPU",
    "gpuClass": "standard"
  },
  "cells": [
    {
      "cell_type": "code",
      "execution_count": 1,
      "metadata": {
        "id": "2Tl7E_hhxZLW",
        "colab": {
          "base_uri": "https://localhost:8080/"
        },
        "outputId": "a1de7205-d7db-4a7d-f56d-b8c93acd20e6"
      },
      "outputs": [
        {
          "output_type": "stream",
          "name": "stdout",
          "text": [
            "Cloning into 'COVID-CT'...\n",
            "remote: Enumerating objects: 5463, done.\u001b[K\n",
            "remote: Counting objects: 100% (4/4), done.\u001b[K\n",
            "remote: Compressing objects: 100% (4/4), done.\u001b[K\n",
            "remote: Total 5463 (delta 0), reused 1 (delta 0), pack-reused 5459\u001b[K\n",
            "Receiving objects: 100% (5463/5463), 1.09 GiB | 25.50 MiB/s, done.\n",
            "Resolving deltas: 100% (360/360), done.\n",
            "Updating files: 100% (1048/1048), done.\n"
          ]
        }
      ],
      "source": [
        "!git clone https://github.com/UCSD-AI4H/COVID-CT.git"
      ]
    },
    {
      "cell_type": "code",
      "source": [
        "!unzip '/content/COVID-CTT/Images-processed/CT_COVID.zip' -d '/content/'"
      ],
      "metadata": {
        "id": "A6xsUrN40cM-"
      },
      "execution_count": null,
      "outputs": []
    },
    {
      "cell_type": "code",
      "source": [
        "!unzip '/content/COVID-CTT/Images-processed/CT_NonCOVID.zip' -d '/content/'"
      ],
      "metadata": {
        "id": "_w884eqY02Sn"
      },
      "execution_count": null,
      "outputs": []
    },
    {
      "cell_type": "code",
      "source": [
        "import os\n",
        "import cv2\n",
        "\n",
        "import numpy as np\n",
        "import pandas as pd\n",
        "import seaborn as sns\n",
        "import matplotlib.pyplot as plt\n",
        "import sklearn.metrics as metrics\n",
        "\n",
        "from sklearn.model_selection import train_test_split\n",
        "from sklearn.preprocessing import LabelEncoder\n",
        "from sklearn.metrics import confusion_matrix, classification_report\n",
        "\n",
        "from keras.utils import np_utils\n",
        "\n",
        "from tensorflow.keras.models import Model\n",
        "from tensorflow.keras.models import Sequential\n",
        "from tensorflow.keras.optimizers import Adam\n",
        "from tensorflow.keras.utils import to_categorical\n",
        "from tensorflow.keras.preprocessing.image import ImageDataGenerator\n",
        "from tensorflow.keras.applications import VGG16, ResNet101, Xception\n",
        "from tensorflow.keras.layers import Input, Dense, Flatten, MaxPooling2D, GlobalAveragePooling2D, Dropout, BatchNormalization, Conv2D, InputLayer\n",
        "\n",
        "from tensorflow.keras.models import Model, load_model"
      ],
      "metadata": {
        "id": "B4k85QcUyUTH"
      },
      "execution_count": 4,
      "outputs": []
    },
    {
      "cell_type": "code",
      "source": [
        "# LR = 0.0001\n",
        "EPOCHS = 500\n",
        "BATCH_SIZE = 16\n",
        "IMG_SIZE = 224"
      ],
      "metadata": {
        "id": "VUWJHOYEzYYl"
      },
      "execution_count": 58,
      "outputs": []
    },
    {
      "cell_type": "code",
      "source": [
        "\n",
        "imagePaths = []\n",
        "\n",
        "for dirname, _, filenames in os.walk('/content/COVID-CT/'):\n",
        "    for filename in filenames:\n",
        "        if (filename[-3:] == 'png'):\n",
        "            imagePaths.append(os.path.join(dirname, filename))"
      ],
      "metadata": {
        "id": "m6RgpL0wzYWM"
      },
      "execution_count": 59,
      "outputs": []
    },
    {
      "cell_type": "code",
      "source": [
        "X = []\n",
        "y = []\n",
        "\n",
        "for img_path in imagePaths:\n",
        "    label = img_path.split(os.path.sep)[-2]\n",
        "    \n",
        "    img = cv2.imread(img_path)\n",
        "    img = cv2.cvtColor(img, cv2.COLOR_BGR2RGB)\n",
        "    img = cv2.resize(img, (IMG_SIZE, IMG_SIZE))/255.0\n",
        "    \n",
        "    X.append(img)\n",
        "    y.append(label)\n",
        "\n",
        "X = np.array(X)\n",
        "y = np.array(y)\n",
        "\n",
        "print(type(X), type(y), '\\n')\n",
        "print(X.shape, y.shape)"
      ],
      "metadata": {
        "colab": {
          "base_uri": "https://localhost:8080/"
        },
        "id": "9W92QmKZzYT7",
        "outputId": "5c02dbea-023b-4794-c2e8-12fcada9f5d7"
      },
      "execution_count": 60,
      "outputs": [
        {
          "output_type": "stream",
          "name": "stdout",
          "text": [
            "<class 'numpy.ndarray'> <class 'numpy.ndarray'> \n",
            "\n",
            "(544, 224, 224, 3) (544,)\n"
          ]
        }
      ]
    },
    {
      "cell_type": "code",
      "source": [
        "#View counts of different labels\n",
        "y_df = pd.DataFrame(y, columns=['Labels'])\n",
        "print(y_df.head(), \"\\n\")\n",
        "print(y_df['Labels'].value_counts())\n",
        "\n",
        "sns.countplot(y_df['Labels'])\n",
        "plt.show()"
      ],
      "metadata": {
        "colab": {
          "base_uri": "https://localhost:8080/",
          "height": 535
        },
        "id": "jtvQD3M9zYRf",
        "outputId": "230cd970-9e54-4d42-c15c-2621149f91f4"
      },
      "execution_count": 61,
      "outputs": [
        {
          "output_type": "stream",
          "name": "stdout",
          "text": [
            "     Labels\n",
            "0  CT_COVID\n",
            "1  CT_COVID\n",
            "2  CT_COVID\n",
            "3  CT_COVID\n",
            "4  CT_COVID \n",
            "\n",
            "CT_COVID       349\n",
            "CT_NonCOVID    195\n",
            "Name: Labels, dtype: int64\n"
          ]
        },
        {
          "output_type": "display_data",
          "data": {
            "text/plain": [
              "<Figure size 576x396 with 1 Axes>"
            ],
            "image/png": "[encoded data removed]"
          },
          "metadata": {}
        }
      ]
    },
    {
      "cell_type": "code",
      "source": [
        "#Encode labels as integers\n",
        "le = LabelEncoder()\n",
        "y_encoded = le.fit_transform(y)\n",
        "#Convert list of labels to one-hot format\n",
        "y_encoded = np_utils.to_categorical(y_encoded)"
      ],
      "metadata": {
        "id": "fK7J93BuzYO4"
      },
      "execution_count": 62,
      "outputs": []
    },
    {
      "cell_type": "code",
      "source": [
        "#Check properties of label array\n",
        "print(y_encoded, '\\n')\n",
        "print(y_encoded[0], '\\n')\n",
        "print(type(y_encoded), '\\n')\n",
        "print(le.classes_, '\\n')"
      ],
      "metadata": {
        "colab": {
          "base_uri": "https://localhost:8080/"
        },
        "id": "B3LTGX1JzYMi",
        "outputId": "34a71f79-8354-4fec-baed-602f642d5ce5"
      },
      "execution_count": 63,
      "outputs": [
        {
          "output_type": "stream",
          "name": "stdout",
          "text": [
            "[[1. 0.]\n",
            " [1. 0.]\n",
            " [1. 0.]\n",
            " ...\n",
            " [0. 1.]\n",
            " [0. 1.]\n",
            " [0. 1.]] \n",
            "\n",
            "[1. 0.] \n",
            "\n",
            "<class 'numpy.ndarray'> \n",
            "\n",
            "['CT_COVID' 'CT_NonCOVID'] \n",
            "\n"
          ]
        }
      ]
    },
    {
      "cell_type": "code",
      "source": [
        "#Generate training and testing subsets\n",
        "X_train, X_test, y_train, y_test = train_test_split(X, y_encoded, test_size=0.20, stratify=y_encoded, random_state=3)\n",
        "\n",
        "print(X_train.shape)\n",
        "print(y_train.shape)\n",
        "print(X_test.shape)\n",
        "print(y_test.shape)\n",
        "\n",
        "train_aug = ImageDataGenerator(rotation_range=15)"
      ],
      "metadata": {
        "colab": {
          "base_uri": "https://localhost:8080/"
        },
        "id": "DvZ121vhzYKG",
        "outputId": "cee27e67-551e-48f4-87b4-ed44564232f0"
      },
      "execution_count": 64,
      "outputs": [
        {
          "output_type": "stream",
          "name": "stdout",
          "text": [
            "(435, 224, 224, 3)\n",
            "(435, 2)\n",
            "(109, 224, 224, 3)\n",
            "(109, 2)\n"
          ]
        }
      ]
    },
    {
      "cell_type": "code",
      "source": [
        "# !pip install --user tensorflow-addons==0.8.3\n",
        "# !pip install --user tensorflow==2.2.0-rc3\n",
        "\n",
        "!pip install tensorflow-addons\n",
        "\n",
        "import pandas as pd\n",
        "import numpy as np\n",
        "import tensorflow as tf\n",
        "import tensorflow_addons as tfa\n",
        "import glob, warnings\n",
        "import matplotlib.pyplot as plt\n",
        "import pathlib\n",
        "from sklearn.metrics import confusion_matrix, classification_report\n",
        "import seaborn as sns\n",
        "\n",
        "warnings.filterwarnings('ignore')\n",
        "print('TensorFlow Version ' + tf.__version__)\n",
        "\n",
        "!pip install --quiet vit-keras"
      ],
      "metadata": {
        "colab": {
          "base_uri": "https://localhost:8080/"
        },
        "id": "g-HUoxt8zYHb",
        "outputId": "8068418d-b348-4a85-aebb-59652726a30b"
      },
      "execution_count": 65,
      "outputs": [
        {
          "output_type": "stream",
          "name": "stdout",
          "text": [
            "Looking in indexes: https://pypi.org/simple, https://us-python.pkg.dev/colab-wheels/public/simple/\n",
            "Requirement already satisfied: tensorflow-addons in /usr/local/lib/python3.8/dist-packages (0.19.0)\n",
            "Requirement already satisfied: typeguard>=2.7 in /usr/local/lib/python3.8/dist-packages (from tensorflow-addons) (2.7.1)\n",
            "Requirement already satisfied: packaging in /usr/local/lib/python3.8/dist-packages (from tensorflow-addons) (23.0)\n",
            "TensorFlow Version 2.11.0\n"
          ]
        }
      ]
    },
    {
      "cell_type": "code",
      "source": [
        "from vit_keras import vit"
      ],
      "metadata": {
        "id": "cYa1Lv_tzYE-"
      },
      "execution_count": 66,
      "outputs": []
    },
    {
      "cell_type": "code",
      "source": [
        "vit_model = vit.vit_b32(\n",
        "        image_size = 224,\n",
        "        activation = 'softmax',\n",
        "        pretrained = True,\n",
        "        include_top = False,\n",
        "        pretrained_top = False,\n",
        "        classes = 2)\n",
        "\n",
        "\n",
        "# # image_size = 224\n",
        "# vit_model = vit.vit_l32(\n",
        "#     image_size=224,\n",
        "#     activation='softmax',\n",
        "#     pretrained=True,\n",
        "#     include_top=True,\n",
        "#     pretrained_top=False,\n",
        "#     classes=2\n",
        "# )"
      ],
      "metadata": {
        "id": "XhhO5sURzYCn"
      },
      "execution_count": 67,
      "outputs": []
    },
    {
      "cell_type": "code",
      "source": [
        "model = tf.keras.Sequential([\n",
        "        vit_model,\n",
        "        tf.keras.layers.Flatten(),\n",
        "        tf.keras.layers.BatchNormalization(),\n",
        "        tf.keras.layers.Dense(11, activation = tfa.activations.gelu),\n",
        "        tf.keras.layers.BatchNormalization(),\n",
        "        tf.keras.layers.Dense(2, 'softmax')\n",
        "    ],\n",
        "    name = 'vision_transformer')\n",
        "\n",
        "model.summary()"
      ],
      "metadata": {
        "colab": {
          "base_uri": "https://localhost:8080/"
        },
        "id": "_NZun-qVzX_1",
        "outputId": "d58b932b-5cc9-4363-bc8c-2a259d9a2599"
      },
      "execution_count": 68,
      "outputs": [
        {
          "output_type": "stream",
          "name": "stdout",
          "text": [
            "Model: \"vision_transformer\"\n",
            "_________________________________________________________________\n",
            " Layer (type)                Output Shape              Param #   \n",
            "=================================================================\n",
            " vit-b32 (Functional)        (None, 768)               87455232  \n",
            "                                                                 \n",
            " flatten_2 (Flatten)         (None, 768)               0         \n",
            "                                                                 \n",
            " batch_normalization_4 (Batc  (None, 768)              3072      \n",
            " hNormalization)                                                 \n",
            "                                                                 \n",
            " dense_4 (Dense)             (None, 11)                8459      \n",
            "                                                                 \n",
            " batch_normalization_5 (Batc  (None, 11)               44        \n",
            " hNormalization)                                                 \n",
            "                                                                 \n",
            " dense_5 (Dense)             (None, 2)                 24        \n",
            "                                                                 \n",
            "=================================================================\n",
            "Total params: 87,466,831\n",
            "Trainable params: 87,465,273\n",
            "Non-trainable params: 1,558\n",
            "_________________________________________________________________\n"
          ]
        }
      ]
    },
    {
      "cell_type": "code",
      "source": [
        "import time\n",
        "from sklearn.neural_network import MLPClassifier\n",
        "from sklearn.datasets import load_iris"
      ],
      "metadata": {
        "id": "E3ZGeSeh9Bra"
      },
      "execution_count": 69,
      "outputs": []
    },
    {
      "cell_type": "code",
      "source": [
        "earlystopping = tf.keras.callbacks.EarlyStopping(monitor = 'val_accuracy',\n",
        "                                                 min_delta = 1e-4,\n",
        "                                                 patience = 30,\n",
        "                                                 mode = 'max',\n",
        "                                                 restore_best_weights = True,\n",
        "                                                 verbose = 1)\n",
        "\n",
        "reduce_lr = tf.keras.callbacks.ReduceLROnPlateau(monitor = 'val_accuracy',\n",
        "                                                 factor = 0.2,\n",
        "                                                 patience = 2,\n",
        "                                                 verbose = 1,\n",
        "                                                 min_delta = 1e-4,\n",
        "                                                 min_lr = 1e-6,\n",
        "                                                 mode = 'max')\n",
        "\n",
        "callbacks = [earlystopping, reduce_lr]\n",
        "# callbacks = [reduce_lr]"
      ],
      "metadata": {
        "id": "YpPYnGDp94Jk"
      },
      "execution_count": 70,
      "outputs": []
    },
    {
      "cell_type": "code",
      "source": [
        "\n",
        "# optim = Adam(lr = LR, decay = LR/EPOCHS)\n",
        "\n",
        "learning_rate = 1e-4\n",
        "\n",
        "# optimizer = tfa.optimizers.AdamW(learning_rate = learning_rate)\n",
        "\n",
        "optimizer = tfa.optimizers.RectifiedAdam(learning_rate = learning_rate)\n",
        "\n",
        "# optimizer = tfa.optimizers.AdamW(\n",
        "#     learning_rate=1e-4,\n",
        "#     weight_decay=1e-4\n",
        "# )\n",
        "# optimizer = opt\n",
        "\n",
        "# model.compile(optimizer = optimizer, \n",
        "#               loss = tf.keras.losses.BinaryCrossentropy(label_smoothing = 0.2), \n",
        "#               metrics = ['accuracy'])\n",
        "\n",
        "\n",
        "model.compile(optimizer = optimizer, \n",
        "              loss ='categorical_crossentropy', \n",
        "              metrics = ['accuracy'])\n",
        "\n",
        "# start = time.time()\n",
        "# # model.fit(X, y)\n",
        "# stop = time.time()\n",
        "# print(f\"Training time: {stop - start}s\")\n",
        "\n",
        "import time\n",
        "start = time.time()\n",
        "\n",
        "# model.compile(loss='categorical_crossentropy', optimizer=optim, metrics=['accuracy'])\n",
        "\n",
        "# compile the model with precision, recall, and F1 score as metrics\n",
        "# model.compile(optimizer=optim, loss='categorical_crossentropy', \n",
        "              # metrics=['accuracy', keras.metrics.Precision(), keras.metrics.Recall(), keras.metrics.F1Score()])\n",
        "\n",
        "\n",
        "\n",
        "history = model.fit_generator(train_aug.flow(X_train, y_train, batch_size=BATCH_SIZE),\n",
        "                                    steps_per_epoch=len(X_train)//BATCH_SIZE,\n",
        "                                    validation_data=(X_test, y_test),\n",
        "                                    validation_steps=len(X_test)//BATCH_SIZE,\n",
        "                                    epochs=500,\n",
        "                                    callbacks = callbacks,\n",
        "                                    verbose=1)\n",
        "end = time.time()\n",
        "\n",
        "print('Program processed ', end - start, 's, ', (end - start)/60, 'min, ', (end - start)/3600, 'h')\n",
        "\n",
        "# stop = time.time()\n",
        "# print(f\"Training time: {stop - start}s\")"
      ],
      "metadata": {
        "colab": {
          "base_uri": "https://localhost:8080/"
        },
        "id": "jfoobRq9zX9b",
        "outputId": "efe8f1ec-2565-4bda-90be-0038cef49294"
      },
      "execution_count": 71,
      "outputs": [
        {
          "output_type": "stream",
          "name": "stdout",
          "text": [
            "Epoch 1/500\n",
            "27/27 [==============================] - 55s 439ms/step - loss: 0.7813 - accuracy: 0.5585 - val_loss: 0.5638 - val_accuracy: 0.6972 - lr: 1.0000e-04\n",
            "Epoch 2/500\n",
            "27/27 [==============================] - 8s 307ms/step - loss: 0.5843 - accuracy: 0.7232 - val_loss: 0.4981 - val_accuracy: 0.7523 - lr: 1.0000e-04\n",
            "Epoch 3/500\n",
            "27/27 [==============================] - 8s 277ms/step - loss: 0.5017 - accuracy: 0.7446 - val_loss: 0.4624 - val_accuracy: 0.7706 - lr: 1.0000e-04\n",
            "Epoch 4/500\n",
            "27/27 [==============================] - 8s 311ms/step - loss: 0.3955 - accuracy: 0.8186 - val_loss: 0.4484 - val_accuracy: 0.7982 - lr: 1.0000e-04\n",
            "Epoch 5/500\n",
            "27/27 [==============================] - 8s 309ms/step - loss: 0.3964 - accuracy: 0.8282 - val_loss: 0.4590 - val_accuracy: 0.7798 - lr: 1.0000e-04\n",
            "Epoch 6/500\n",
            "27/27 [==============================] - 8s 312ms/step - loss: 0.3558 - accuracy: 0.8377 - val_loss: 0.4097 - val_accuracy: 0.8073 - lr: 1.0000e-04\n",
            "Epoch 7/500\n",
            "27/27 [==============================] - 8s 274ms/step - loss: 0.2926 - accuracy: 0.8616 - val_loss: 0.4056 - val_accuracy: 0.8349 - lr: 1.0000e-04\n",
            "Epoch 8/500\n",
            "27/27 [==============================] - 8s 310ms/step - loss: 0.2979 - accuracy: 0.8592 - val_loss: 0.3611 - val_accuracy: 0.8624 - lr: 1.0000e-04\n",
            "Epoch 9/500\n",
            "27/27 [==============================] - 8s 285ms/step - loss: 0.2900 - accuracy: 0.8735 - val_loss: 0.2764 - val_accuracy: 0.9083 - lr: 1.0000e-04\n",
            "Epoch 10/500\n",
            "27/27 [==============================] - 9s 338ms/step - loss: 0.2832 - accuracy: 0.8950 - val_loss: 0.2854 - val_accuracy: 0.8716 - lr: 1.0000e-04\n",
            "Epoch 11/500\n",
            "27/27 [==============================] - ETA: 0s - loss: 0.2551 - accuracy: 0.9093\n",
            "Epoch 11: ReduceLROnPlateau reducing learning rate to 1.9999999494757503e-05.\n",
            "27/27 [==============================] - 8s 302ms/step - loss: 0.2551 - accuracy: 0.9093 - val_loss: 0.3131 - val_accuracy: 0.8624 - lr: 1.0000e-04\n",
            "Epoch 12/500\n",
            "27/27 [==============================] - 8s 288ms/step - loss: 0.2392 - accuracy: 0.9189 - val_loss: 0.2231 - val_accuracy: 0.9266 - lr: 2.0000e-05\n",
            "Epoch 13/500\n",
            "27/27 [==============================] - 8s 278ms/step - loss: 0.2042 - accuracy: 0.9379 - val_loss: 0.2389 - val_accuracy: 0.9174 - lr: 2.0000e-05\n",
            "Epoch 14/500\n",
            "27/27 [==============================] - ETA: 0s - loss: 0.1760 - accuracy: 0.9475\n",
            "Epoch 14: ReduceLROnPlateau reducing learning rate to 3.999999898951501e-06.\n",
            "27/27 [==============================] - 8s 306ms/step - loss: 0.1760 - accuracy: 0.9475 - val_loss: 0.2413 - val_accuracy: 0.9266 - lr: 2.0000e-05\n",
            "Epoch 15/500\n",
            "27/27 [==============================] - 8s 298ms/step - loss: 0.1843 - accuracy: 0.9475 - val_loss: 0.2481 - val_accuracy: 0.9266 - lr: 4.0000e-06\n",
            "Epoch 16/500\n",
            "27/27 [==============================] - ETA: 0s - loss: 0.1847 - accuracy: 0.9523\n",
            "Epoch 16: ReduceLROnPlateau reducing learning rate to 1e-06.\n",
            "27/27 [==============================] - 8s 305ms/step - loss: 0.1847 - accuracy: 0.9523 - val_loss: 0.2677 - val_accuracy: 0.8991 - lr: 4.0000e-06\n",
            "Epoch 17/500\n",
            "27/27 [==============================] - 11s 384ms/step - loss: 0.1763 - accuracy: 0.9499 - val_loss: 0.2639 - val_accuracy: 0.9083 - lr: 1.0000e-06\n",
            "Epoch 18/500\n",
            "27/27 [==============================] - 8s 301ms/step - loss: 0.2049 - accuracy: 0.9356 - val_loss: 0.2630 - val_accuracy: 0.9083 - lr: 1.0000e-06\n",
            "Epoch 19/500\n",
            "27/27 [==============================] - 7s 271ms/step - loss: 0.2216 - accuracy: 0.9284 - val_loss: 0.2602 - val_accuracy: 0.9083 - lr: 1.0000e-06\n",
            "Epoch 20/500\n",
            "27/27 [==============================] - 8s 272ms/step - loss: 0.2030 - accuracy: 0.9332 - val_loss: 0.2657 - val_accuracy: 0.9083 - lr: 1.0000e-06\n",
            "Epoch 21/500\n",
            "27/27 [==============================] - 8s 299ms/step - loss: 0.2044 - accuracy: 0.9332 - val_loss: 0.2671 - val_accuracy: 0.9083 - lr: 1.0000e-06\n",
            "Epoch 22/500\n",
            "27/27 [==============================] - 8s 304ms/step - loss: 0.1697 - accuracy: 0.9499 - val_loss: 0.2643 - val_accuracy: 0.9083 - lr: 1.0000e-06\n",
            "Epoch 23/500\n",
            "27/27 [==============================] - 8s 278ms/step - loss: 0.1953 - accuracy: 0.9379 - val_loss: 0.2645 - val_accuracy: 0.9083 - lr: 1.0000e-06\n",
            "Epoch 24/500\n",
            "27/27 [==============================] - 8s 273ms/step - loss: 0.1840 - accuracy: 0.9499 - val_loss: 0.2642 - val_accuracy: 0.9083 - lr: 1.0000e-06\n",
            "Epoch 25/500\n",
            "27/27 [==============================] - 8s 295ms/step - loss: 0.2122 - accuracy: 0.9379 - val_loss: 0.2637 - val_accuracy: 0.9083 - lr: 1.0000e-06\n",
            "Epoch 26/500\n",
            "27/27 [==============================] - 8s 285ms/step - loss: 0.1880 - accuracy: 0.9352 - val_loss: 0.2623 - val_accuracy: 0.9083 - lr: 1.0000e-06\n",
            "Epoch 27/500\n",
            "27/27 [==============================] - 7s 270ms/step - loss: 0.1984 - accuracy: 0.9379 - val_loss: 0.2586 - val_accuracy: 0.9083 - lr: 1.0000e-06\n",
            "Epoch 28/500\n",
            "27/27 [==============================] - 7s 270ms/step - loss: 0.1856 - accuracy: 0.9427 - val_loss: 0.2586 - val_accuracy: 0.9083 - lr: 1.0000e-06\n",
            "Epoch 29/500\n",
            "27/27 [==============================] - 8s 305ms/step - loss: 0.2008 - accuracy: 0.9375 - val_loss: 0.2635 - val_accuracy: 0.9083 - lr: 1.0000e-06\n",
            "Epoch 30/500\n",
            "27/27 [==============================] - 8s 284ms/step - loss: 0.1615 - accuracy: 0.9642 - val_loss: 0.2673 - val_accuracy: 0.9083 - lr: 1.0000e-06\n",
            "Epoch 31/500\n",
            "27/27 [==============================] - 7s 266ms/step - loss: 0.2017 - accuracy: 0.9356 - val_loss: 0.2654 - val_accuracy: 0.9083 - lr: 1.0000e-06\n",
            "Epoch 32/500\n",
            "27/27 [==============================] - 8s 299ms/step - loss: 0.1924 - accuracy: 0.9427 - val_loss: 0.2566 - val_accuracy: 0.9083 - lr: 1.0000e-06\n",
            "Epoch 33/500\n",
            "27/27 [==============================] - 8s 301ms/step - loss: 0.1766 - accuracy: 0.9427 - val_loss: 0.2540 - val_accuracy: 0.9083 - lr: 1.0000e-06\n",
            "Epoch 34/500\n",
            "27/27 [==============================] - 8s 303ms/step - loss: 0.1760 - accuracy: 0.9451 - val_loss: 0.2627 - val_accuracy: 0.9083 - lr: 1.0000e-06\n",
            "Epoch 35/500\n",
            "27/27 [==============================] - 7s 270ms/step - loss: 0.1704 - accuracy: 0.9499 - val_loss: 0.2686 - val_accuracy: 0.9083 - lr: 1.0000e-06\n",
            "Epoch 36/500\n",
            "27/27 [==============================] - 8s 291ms/step - loss: 0.1720 - accuracy: 0.9451 - val_loss: 0.2655 - val_accuracy: 0.9083 - lr: 1.0000e-06\n",
            "Epoch 37/500\n",
            "27/27 [==============================] - 8s 305ms/step - loss: 0.1983 - accuracy: 0.9403 - val_loss: 0.2694 - val_accuracy: 0.8991 - lr: 1.0000e-06\n",
            "Epoch 38/500\n",
            "27/27 [==============================] - 8s 272ms/step - loss: 0.1974 - accuracy: 0.9308 - val_loss: 0.2696 - val_accuracy: 0.8991 - lr: 1.0000e-06\n",
            "Epoch 39/500\n",
            "27/27 [==============================] - 8s 281ms/step - loss: 0.1864 - accuracy: 0.9451 - val_loss: 0.2753 - val_accuracy: 0.8991 - lr: 1.0000e-06\n",
            "Epoch 40/500\n",
            "27/27 [==============================] - 8s 293ms/step - loss: 0.2231 - accuracy: 0.9260 - val_loss: 0.2749 - val_accuracy: 0.8991 - lr: 1.0000e-06\n",
            "Epoch 41/500\n",
            "27/27 [==============================] - 8s 296ms/step - loss: 0.1939 - accuracy: 0.9475 - val_loss: 0.2674 - val_accuracy: 0.9083 - lr: 1.0000e-06\n",
            "Epoch 42/500\n",
            "27/27 [==============================] - ETA: 0s - loss: 0.1838 - accuracy: 0.9451Restoring model weights from the end of the best epoch: 12.\n",
            "27/27 [==============================] - 8s 278ms/step - loss: 0.1838 - accuracy: 0.9451 - val_loss: 0.2700 - val_accuracy: 0.8991 - lr: 1.0000e-06\n",
            "Epoch 42: early stopping\n",
            "Program processed  434.7874207496643 s,  7.246457012494405 min,  0.12077428354157342 h\n"
          ]
        }
      ]
    },
    {
      "cell_type": "code",
      "source": [
        "score = model.evaluate(X_train, y_train)\n",
        "print(\"Model accuracy on Train dataset: %f.\" %(score[1]*100))"
      ],
      "metadata": {
        "id": "2eDEu_V6dNJW"
      },
      "execution_count": null,
      "outputs": []
    },
    {
      "cell_type": "code",
      "source": [
        "score = model.evaluate(X_test, y_test)\n",
        "print(\"Model accuracy on Test dataset: %f.\" %(score[1]*100))"
      ],
      "metadata": {
        "id": "NrCCO8aAdOvm"
      },
      "execution_count": null,
      "outputs": []
    },
    {
      "cell_type": "code",
      "source": [
        "\n",
        "score = model.evaluate(X_train, y_train)\n",
        "print(\"Model accuracy on Train dataset: %f.\" %(score[1]*100))"
      ],
      "metadata": {
        "colab": {
          "base_uri": "https://localhost:8080/"
        },
        "id": "5BbzGtszN4ck",
        "outputId": "58c3c08e-240b-407b-f9aa-1c4472925b5a"
      },
      "execution_count": 28,
      "outputs": [
        {
          "output_type": "stream",
          "name": "stdout",
          "text": [
            "14/14 [==============================] - 2s 124ms/step - loss: 0.0773 - accuracy: 0.9862\n",
            "Model accuracy on Train dataset: 98.620689.\n"
          ]
        }
      ]
    },
    {
      "cell_type": "code",
      "source": [
        "\n",
        "score = model.evaluate(X_test, y_test)\n",
        "print(\"Model accuracy on Test dataset: %f.\" %(score[1]*100))"
      ],
      "metadata": {
        "colab": {
          "base_uri": "https://localhost:8080/"
        },
        "id": "LAE6UXkgN6gv",
        "outputId": "1697ee48-0a5d-4e60-f0e4-56822226bc68"
      },
      "execution_count": 29,
      "outputs": [
        {
          "output_type": "stream",
          "name": "stdout",
          "text": [
            "4/4 [==============================] - 1s 125ms/step - loss: 0.2571 - accuracy: 0.9450\n",
            "Model accuracy on Test dataset: 94.495416.\n"
          ]
        }
      ]
    },
    {
      "cell_type": "code",
      "source": [
        "\n",
        "plt.plot(history.history['accuracy'])\n",
        "plt.plot(history.history['val_accuracy'])\n",
        "\n",
        "plt.title('Model Accuracy')\n",
        "plt.ylabel('Accuracy')\n",
        "plt.xlabel('Epoch')\n",
        "\n",
        "plt.legend(['Training', 'Testing'])\n",
        "plt.savefig('vgg_ct_accuracy.png')\n",
        "plt.show()"
      ],
      "metadata": {
        "colab": {
          "base_uri": "https://localhost:8080/",
          "height": 376
        },
        "id": "o6Ck9f3k3Ppe",
        "outputId": "d57b489e-498a-4f3c-901a-cba138ef4052"
      },
      "execution_count": 74,
      "outputs": [
        {
          "output_type": "display_data",
          "data": {
            "text/plain": [
              "<Figure size 576x396 with 1 Axes>"
            ],
            "image/png": "[encoded data removed]"
          },
          "metadata": {}
        }
      ]
    },
    {
      "cell_type": "code",
      "source": [
        "\n",
        "plt.plot(history.history['loss'])\n",
        "plt.plot(history.history['val_loss'])\n",
        "\n",
        "plt.title('Model Loss')\n",
        "plt.ylabel('Loss')\n",
        "plt.xlabel('Epoch')\n",
        "\n",
        "plt.legend(['Training', 'Testing'])\n",
        "plt.savefig('vgg_ct_loss.png')\n",
        "plt.show()"
      ],
      "metadata": {
        "colab": {
          "base_uri": "https://localhost:8080/",
          "height": 376
        },
        "id": "MWfnW75P_b_2",
        "outputId": "80b1b4bd-8e87-48f0-c803-4b83ebad7f66"
      },
      "execution_count": 75,
      "outputs": [
        {
          "output_type": "display_data",
          "data": {
            "text/plain": [
              "<Figure size 576x396 with 1 Axes>"
            ],
            "image/png": "[encoded data removed]"
          },
          "metadata": {}
        }
      ]
    },
    {
      "cell_type": "code",
      "source": [
        "\n",
        "y_pred = np.argmax(model.predict(X_test), axis=1)\n",
        "print(y_pred)\n",
        "print(len(y_pred))\n",
        "print(le.classes_)\n",
        "     "
      ],
      "metadata": {
        "colab": {
          "base_uri": "https://localhost:8080/"
        },
        "id": "5jQ7gY01_eJ1",
        "outputId": "5f8413d2-dd72-4516-f9eb-ff7466b5b45a"
      },
      "execution_count": 76,
      "outputs": [
        {
          "output_type": "stream",
          "name": "stdout",
          "text": [
            "4/4 [==============================] - 3s 118ms/step\n",
            "[1 0 1 0 0 1 0 0 1 0 0 0 1 0 0 1 0 1 0 0 0 0 1 0 1 1 1 1 1 0 1 0 1 1 0 0 0\n",
            " 0 1 1 0 0 1 1 0 0 0 0 1 0 0 0 1 0 0 0 1 1 0 0 0 0 0 1 1 0 0 0 1 0 1 0 0 0\n",
            " 0 0 0 0 0 1 0 0 0 0 1 0 0 1 0 1 1 0 1 0 1 0 1 1 1 1 1 0 0 0 1 0 0 0 0]\n",
            "109\n",
            "['CT_COVID' 'CT_NonCOVID']\n"
          ]
        }
      ]
    },
    {
      "cell_type": "code",
      "source": [
        "y_test_labels = np.argmax(y_test, axis=1)\n",
        "print(y_test_labels)\n",
        "print(len(y_test_labels))\n",
        "print(le.classes_)"
      ],
      "metadata": {
        "colab": {
          "base_uri": "https://localhost:8080/"
        },
        "id": "z72SzYIu_hXo",
        "outputId": "715808a1-ec70-4211-c8fc-ad3bde1c4478"
      },
      "execution_count": 77,
      "outputs": [
        {
          "output_type": "stream",
          "name": "stdout",
          "text": [
            "[0 0 1 0 0 1 0 0 1 0 0 0 0 0 0 1 0 1 1 0 0 0 1 0 1 1 1 1 1 0 1 0 1 1 0 0 0\n",
            " 0 1 1 0 0 1 1 0 0 0 0 1 0 0 0 1 0 0 0 0 1 0 0 0 1 0 1 1 0 0 0 1 0 1 0 0 0\n",
            " 0 0 1 0 0 1 0 0 0 0 1 0 0 1 0 1 1 0 0 0 1 0 1 1 0 1 1 0 0 0 1 0 0 0 0]\n",
            "109\n",
            "['CT_COVID' 'CT_NonCOVID']\n"
          ]
        }
      ]
    },
    {
      "cell_type": "code",
      "source": [
        "#Confusion matrix\n",
        "cm = confusion_matrix(y_test_labels, y_pred)\n",
        "print(cm)\n",
        "cm_df = pd.DataFrame(cm, index=le.classes_, columns=le.classes_)\n",
        "cm_df.head()"
      ],
      "metadata": {
        "colab": {
          "base_uri": "https://localhost:8080/",
          "height": 147
        },
        "id": "Uz75kf7I_nbW",
        "outputId": "7e50dd9d-cda4-4f30-f5b9-3a1551c994a1"
      },
      "execution_count": 78,
      "outputs": [
        {
          "output_type": "stream",
          "name": "stdout",
          "text": [
            "[[65  5]\n",
            " [ 3 36]]\n"
          ]
        },
        {
          "output_type": "execute_result",
          "data": {
            "text/plain": [
              "             CT_COVID  CT_NonCOVID\n",
              "CT_COVID           65            5\n",
              "CT_NonCOVID         3           36"
            ],
            "text/html": [
              "\n",
              "  <div id=\"df-66d124ff-0e60-4df4-afce-1a87252ad599\">\n",
              "    <div class=\"colab-df-container\">\n",
              "      <div>\n",
              "<style scoped>\n",
              "    .dataframe tbody tr th:only-of-type {\n",
              "        vertical-align: middle;\n",
              "    }\n",
              "\n",
              "    .dataframe tbody tr th {\n",
              "        vertical-align: top;\n",
              "    }\n",
              "\n",
              "    .dataframe thead th {\n",
              "        text-align: right;\n",
              "    }\n",
              "</style>\n",
              "<table border=\"1\" class=\"dataframe\">\n",
              "  <thead>\n",
              "    <tr style=\"text-align: right;\">\n",
              "      <th></th>\n",
              "      <th>CT_COVID</th>\n",
              "      <th>CT_NonCOVID</th>\n",
              "    </tr>\n",
              "  </thead>\n",
              "  <tbody>\n",
              "    <tr>\n",
              "      <th>CT_COVID</th>\n",
              "      <td>65</td>\n",
              "      <td>5</td>\n",
              "    </tr>\n",
              "    <tr>\n",
              "      <th>CT_NonCOVID</th>\n",
              "      <td>3</td>\n",
              "      <td>36</td>\n",
              "    </tr>\n",
              "  </tbody>\n",
              "</table>\n",
              "</div>\n",
              "      <button class=\"colab-df-convert\" onclick=\"convertToInteractive('df-66d124ff-0e60-4df4-afce-1a87252ad599')\"\n",
              "              title=\"Convert this dataframe to an interactive table.\"\n",
              "              style=\"display:none;\">\n",
              "        \n",
              "  <svg xmlns=\"http://www.w3.org/2000/svg\" height=\"24px\"viewBox=\"0 0 24 24\"\n",
              "       width=\"24px\">\n",
              "    <path d=\"M0 0h24v24H0V0z\" fill=\"none\"/>\n",
              "    <path d=\"M18.56 5.44l.94 2.06.94-2.06 2.06-.94-2.06-.94-.94-2.06-.94 2.06-2.06.94zm-11 1L8.5 8.5l.94-2.06 2.06-.94-2.06-.94L8.5 2.5l-.94 2.06-2.06.94zm10 10l.94 2.06.94-2.06 2.06-.94-2.06-.94-.94-2.06-.94 2.06-2.06.94z\"/><path d=\"M17.41 7.96l-1.37-1.37c-.4-.4-.92-.59-1.43-.59-.52 0-1.04.2-1.43.59L10.3 9.45l-7.72 7.72c-.78.78-.78 2.05 0 2.83L4 21.41c.39.39.9.59 1.41.59.51 0 1.02-.2 1.41-.59l7.78-7.78 2.81-2.81c.8-.78.8-2.07 0-2.86zM5.41 20L4 18.59l7.72-7.72 1.47 1.35L5.41 20z\"/>\n",
              "  </svg>\n",
              "      </button>\n",
              "      \n",
              "  <style>\n",
              "    .colab-df-container {\n",
              "      display:flex;\n",
              "      flex-wrap:wrap;\n",
              "      gap: 12px;\n",
              "    }\n",
              "\n",
              "    .colab-df-convert {\n",
              "      background-color: #E8F0FE;\n",
              "      border: none;\n",
              "      border-radius: 50%;\n",
              "      cursor: pointer;\n",
              "      display: none;\n",
              "      fill: #1967D2;\n",
              "      height: 32px;\n",
              "      padding: 0 0 0 0;\n",
              "      width: 32px;\n",
              "    }\n",
              "\n",
              "    .colab-df-convert:hover {\n",
              "      background-color: #E2EBFA;\n",
              "      box-shadow: 0px 1px 2px rgba(60, 64, 67, 0.3), 0px 1px 3px 1px rgba(60, 64, 67, 0.15);\n",
              "      fill: #174EA6;\n",
              "    }\n",
              "\n",
              "    [theme=dark] .colab-df-convert {\n",
              "      background-color: #3B4455;\n",
              "      fill: #D2E3FC;\n",
              "    }\n",
              "\n",
              "    [theme=dark] .colab-df-convert:hover {\n",
              "      background-color: #434B5C;\n",
              "      box-shadow: 0px 1px 3px 1px rgba(0, 0, 0, 0.15);\n",
              "      filter: drop-shadow(0px 1px 2px rgba(0, 0, 0, 0.3));\n",
              "      fill: #FFFFFF;\n",
              "    }\n",
              "  </style>\n",
              "\n",
              "      <script>\n",
              "        const buttonEl =\n",
              "          document.querySelector('#df-66d124ff-0e60-4df4-afce-1a87252ad599 button.colab-df-convert');\n",
              "        buttonEl.style.display =\n",
              "          google.colab.kernel.accessAllowed ? 'block' : 'none';\n",
              "\n",
              "        async function convertToInteractive(key) {\n",
              "          const element = document.querySelector('#df-66d124ff-0e60-4df4-afce-1a87252ad599');\n",
              "          const dataTable =\n",
              "            await google.colab.kernel.invokeFunction('convertToInteractive',\n",
              "                                                     [key], {});\n",
              "          if (!dataTable) return;\n",
              "\n",
              "          const docLinkHtml = 'Like what you see? Visit the ' +\n",
              "            '<a target=\"_blank\" href=https://colab.research.google.com/notebooks/data_table.ipynb>data table notebook</a>'\n",
              "            + ' to learn more about interactive tables.';\n",
              "          element.innerHTML = '';\n",
              "          dataTable['output_type'] = 'display_data';\n",
              "          await google.colab.output.renderOutput(dataTable, element);\n",
              "          const docLink = document.createElement('div');\n",
              "          docLink.innerHTML = docLinkHtml;\n",
              "          element.appendChild(docLink);\n",
              "        }\n",
              "      </script>\n",
              "    </div>\n",
              "  </div>\n",
              "  "
            ]
          },
          "metadata": {},
          "execution_count": 78
        }
      ]
    },
    {
      "cell_type": "code",
      "source": [
        "sns.set(font_scale=1.5, color_codes=True, palette='deep')\n",
        "sns.heatmap(cm_df, annot=True, annot_kws={'size':16}, fmt='d', cmap='icefire_r')\n",
        "plt.ylabel(\"True Label\")\n",
        "plt.xlabel(\"Predicted Label\")\n",
        "plt.title('Confusion Matrix of Test Data')\n",
        "plt.show()"
      ],
      "metadata": {
        "colab": {
          "base_uri": "https://localhost:8080/",
          "height": 403
        },
        "id": "fVQS-TD1RrT6",
        "outputId": "d1e87a59-f297-4ac7-fc75-891bf1bbcbe3"
      },
      "execution_count": 79,
      "outputs": [
        {
          "output_type": "display_data",
          "data": {
            "text/plain": [
              "<Figure size 576x396 with 2 Axes>"
            ],
            "image/png": "[encoded data removed]"
          },
          "metadata": {}
        }
      ]
    },
    {
      "cell_type": "code",
      "source": [
        "from sklearn.metrics import classification_report\n",
        "\n",
        "# Calculate classification report\n",
        "report = classification_report(y_test_labels, y_pred, target_names=le.classes_)\n",
        "print(report)"
      ],
      "metadata": {
        "colab": {
          "base_uri": "https://localhost:8080/"
        },
        "id": "oV78vJyaRsCH",
        "outputId": "7033884c-c439-41b9-c3c5-0d42e2c1d66b"
      },
      "execution_count": 41,
      "outputs": [
        {
          "output_type": "stream",
          "name": "stdout",
          "text": [
            "              precision    recall  f1-score   support\n",
            "\n",
            "    CT_COVID       1.00      0.91      0.96        70\n",
            " CT_NonCOVID       0.87      1.00      0.93        39\n",
            "\n",
            "    accuracy                           0.94       109\n",
            "   macro avg       0.93      0.96      0.94       109\n",
            "weighted avg       0.95      0.94      0.95       109\n",
            "\n"
          ]
        }
      ]
    },
    {
      "cell_type": "code",
      "source": [],
      "metadata": {
        "id": "IlZLyiIiS-6J"
      },
      "execution_count": null,
      "outputs": []
    }
  ]
}